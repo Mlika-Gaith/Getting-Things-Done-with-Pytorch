{
  "nbformat": 4,
  "nbformat_minor": 0,
  "metadata": {
    "colab": {
      "provenance": [],
      "gpuType": "T4",
      "authorship_tag": "ABX9TyPtppPLls1iwnllWkND48O9",
      "include_colab_link": true
    },
    "kernelspec": {
      "name": "python3",
      "display_name": "Python 3"
    },
    "language_info": {
      "name": "python"
    },
    "accelerator": "GPU"
  },
  "cells": [
    {
      "cell_type": "markdown",
      "metadata": {
        "id": "view-in-github",
        "colab_type": "text"
      },
      "source": [
        "<a href=\"https://colab.research.google.com/github/Mlika-Gaith/Getting-Things-Done-with-Pytorch/blob/master/Pytorch_Tensors.ipynb\" target=\"_parent\"><img src=\"https://colab.research.google.com/assets/colab-badge.svg\" alt=\"Open In Colab\"/></a>"
      ]
    },
    {
      "cell_type": "markdown",
      "source": [
        "# Introduction to Pytorch : 1# **Tensors**"
      ],
      "metadata": {
        "id": "vnCvYk7Lq1N6"
      }
    },
    {
      "cell_type": "markdown",
      "source": [
        "What are tensors ?\n",
        "Tensors are a specialized data structure that are very similar  to arrays and matrices. We use tensors to encode the inputs and outputs of a model."
      ],
      "metadata": {
        "id": "WRn1rlthPjjn"
      }
    },
    {
      "cell_type": "code",
      "execution_count": 1,
      "metadata": {
        "colab": {
          "base_uri": "https://localhost:8080/"
        },
        "id": "14gUt7ojqw7c",
        "outputId": "1bee863e-85a3-4c95-98b9-9db4d5bbcc58"
      },
      "outputs": [
        {
          "output_type": "stream",
          "name": "stdout",
          "text": [
            "Requirement already satisfied: torch in /usr/local/lib/python3.10/dist-packages (2.1.0+cu118)\n",
            "Requirement already satisfied: filelock in /usr/local/lib/python3.10/dist-packages (from torch) (3.13.1)\n",
            "Requirement already satisfied: typing-extensions in /usr/local/lib/python3.10/dist-packages (from torch) (4.5.0)\n",
            "Requirement already satisfied: sympy in /usr/local/lib/python3.10/dist-packages (from torch) (1.12)\n",
            "Requirement already satisfied: networkx in /usr/local/lib/python3.10/dist-packages (from torch) (3.2.1)\n",
            "Requirement already satisfied: jinja2 in /usr/local/lib/python3.10/dist-packages (from torch) (3.1.2)\n",
            "Requirement already satisfied: fsspec in /usr/local/lib/python3.10/dist-packages (from torch) (2023.6.0)\n",
            "Requirement already satisfied: triton==2.1.0 in /usr/local/lib/python3.10/dist-packages (from torch) (2.1.0)\n",
            "Requirement already satisfied: MarkupSafe>=2.0 in /usr/local/lib/python3.10/dist-packages (from jinja2->torch) (2.1.3)\n",
            "Requirement already satisfied: mpmath>=0.19 in /usr/local/lib/python3.10/dist-packages (from sympy->torch) (1.3.0)\n",
            "Requirement already satisfied: numpy in /usr/local/lib/python3.10/dist-packages (1.23.5)\n"
          ]
        }
      ],
      "source": [
        "!pip install torch\n",
        "!pip install numpy"
      ]
    },
    {
      "cell_type": "code",
      "source": [
        "import torch\n",
        "import numpy as np"
      ],
      "metadata": {
        "id": "5ZfkQ0b6QMiA"
      },
      "execution_count": 2,
      "outputs": []
    },
    {
      "cell_type": "markdown",
      "source": [
        "\n",
        "\n",
        "1.   Initializing Tensors\n"
      ],
      "metadata": {
        "id": "6oNHULO2P7RH"
      }
    },
    {
      "cell_type": "code",
      "source": [
        "# Directly from Data\n",
        "\n",
        "data = [[1,2],[3,4]]\n",
        "x_data = torch.tensor(data)\n",
        "x_data"
      ],
      "metadata": {
        "colab": {
          "base_uri": "https://localhost:8080/"
        },
        "id": "uzQe2b2vP15F",
        "outputId": "8b51994f-94fc-4d79-f0ed-9ff80d9d87ed"
      },
      "execution_count": 4,
      "outputs": [
        {
          "output_type": "execute_result",
          "data": {
            "text/plain": [
              "tensor([[1, 2],\n",
              "        [3, 4]])"
            ]
          },
          "metadata": {},
          "execution_count": 4
        }
      ]
    },
    {
      "cell_type": "code",
      "source": [
        "# From a numpy array\n",
        "np_array = np.array(data)\n",
        "x_np = torch.from_numpy(np_array)\n",
        "x_np"
      ],
      "metadata": {
        "colab": {
          "base_uri": "https://localhost:8080/"
        },
        "id": "K_9KVLqYQVUX",
        "outputId": "363fb4b3-dcd0-4748-dc66-96e6a081a212"
      },
      "execution_count": 5,
      "outputs": [
        {
          "output_type": "execute_result",
          "data": {
            "text/plain": [
              "tensor([[1, 2],\n",
              "        [3, 4]])"
            ]
          },
          "metadata": {},
          "execution_count": 5
        }
      ]
    },
    {
      "cell_type": "code",
      "source": [
        "# From another tensor\n",
        "\n",
        "x_ones = torch.ones_like(x_data)\n",
        "print (f\"Ones Tensor: \\n{x_ones} \\n\")\n",
        "\n",
        "x_rand = torch.rand_like(x_data, dtype=torch.float)\n",
        "print (f\"Random Tensor: \\n{x_rand} \\n\")"
      ],
      "metadata": {
        "colab": {
          "base_uri": "https://localhost:8080/"
        },
        "id": "QtXeLFZ5Qhh_",
        "outputId": "3f3e6921-facc-4ff4-9410-128adda8502a"
      },
      "execution_count": 13,
      "outputs": [
        {
          "output_type": "stream",
          "name": "stdout",
          "text": [
            "Ones Tensor: \n",
            "tensor([[1, 1],\n",
            "        [1, 1]]) \n",
            "\n",
            "Random Tensor: \n",
            "tensor([[0.7735, 0.7991],\n",
            "        [0.9283, 0.5254]]) \n",
            "\n"
          ]
        }
      ]
    },
    {
      "cell_type": "code",
      "source": [
        "# With random or constant values\n",
        "shape = (1,3)\n",
        "rand_tensor = torch.rand(shape)\n",
        "ones_tensor = torch.ones(shape)\n",
        "zero_tensor = torch.zeros(shape)\n",
        "\n",
        "print(f\"Random Tensor: \\n {rand_tensor} \\n\")\n",
        "print(f\"Ones Tensor: \\n {ones_tensor} \\n\")\n",
        "print(f\"Zeros Tensor: \\n {zero_tensor}\")"
      ],
      "metadata": {
        "colab": {
          "base_uri": "https://localhost:8080/"
        },
        "id": "3KO1LoyQRaWw",
        "outputId": "e04e0059-ae25-42c1-dfad-b26420c9f20b"
      },
      "execution_count": 25,
      "outputs": [
        {
          "output_type": "stream",
          "name": "stdout",
          "text": [
            "Random Tensor: \n",
            " tensor([[0.6209, 0.5115, 0.9587]]) \n",
            "\n",
            "Ones Tensor: \n",
            " tensor([[1., 1., 1.]]) \n",
            "\n",
            "Zeros Tensor: \n",
            " tensor([[0., 0., 0.]])\n"
          ]
        }
      ]
    },
    {
      "cell_type": "markdown",
      "source": [
        "2. Attributes of a Tensor"
      ],
      "metadata": {
        "id": "GVUxzYDPSqYT"
      }
    },
    {
      "cell_type": "code",
      "source": [
        "shape = (2,4)\n",
        "tensor = torch.rand(shape)\n",
        "print (f\"The tesnor : {tensor}\")\n",
        "print(f\"Datatype of tensor : {tensor.dtype}\")\n",
        "print(f\"The shape of the tesnor : {tensor.shape}\")\n",
        "print(f\"Tensor device : {tensor.device}\")"
      ],
      "metadata": {
        "colab": {
          "base_uri": "https://localhost:8080/"
        },
        "id": "JsQurZPsSxzN",
        "outputId": "75958edb-8a61-4931-c57f-e84c18b5b322"
      },
      "execution_count": 31,
      "outputs": [
        {
          "output_type": "stream",
          "name": "stdout",
          "text": [
            "The tesnor : tensor([[0.0403, 0.8753, 0.2173, 0.5986],\n",
            "        [0.1259, 0.1294, 0.2091, 0.8020]])\n",
            "Datatype of tensor : torch.float32\n",
            "The shape of the tesnor : torch.Size([2, 4])\n",
            "Tensor device : cpu\n"
          ]
        }
      ]
    },
    {
      "cell_type": "markdown",
      "source": [
        "3. Operations on Tensors"
      ],
      "metadata": {
        "id": "HUkU5Rn3TykW"
      }
    },
    {
      "cell_type": "code",
      "source": [
        "# Move tensor to GPU\n",
        "if torch.cuda.is_available():\n",
        "  tensor = tensor.to(\"cuda\")"
      ],
      "metadata": {
        "id": "lUID7U1kT1_S"
      },
      "execution_count": 32,
      "outputs": []
    },
    {
      "cell_type": "code",
      "source": [
        "# Indexing and slicing\n",
        "tensor = torch.rand(2,4)\n",
        "print(f\"The tensor : {tensor}\")\n",
        "print(f\"First Row : {tensor[0]}\")\n",
        "print(f\"First column : {tensor[:,0]}\")\n",
        "print(f\"Last column : {tensor[...,-1]}\")\n",
        "tensor[:,1] = 0\n",
        "print(tensor)"
      ],
      "metadata": {
        "colab": {
          "base_uri": "https://localhost:8080/"
        },
        "id": "CvRRF9ZcUVJd",
        "outputId": "83fc7dae-8a4b-46a9-fdbc-01939b28bfc3"
      },
      "execution_count": 43,
      "outputs": [
        {
          "output_type": "stream",
          "name": "stdout",
          "text": [
            "The tensor : tensor([[0.8003, 0.4440, 0.6243, 0.1952],\n",
            "        [0.8713, 0.3102, 0.3245, 0.8150]])\n",
            "First Row : tensor([0.8003, 0.4440, 0.6243, 0.1952])\n",
            "First column : tensor([0.8003, 0.8713])\n",
            "Last column : tensor([0.1952, 0.8150])\n",
            "tensor([[0.8003, 0.0000, 0.6243, 0.1952],\n",
            "        [0.8713, 0.0000, 0.3245, 0.8150]])\n"
          ]
        }
      ]
    },
    {
      "cell_type": "code",
      "source": [
        "# Joining tensors\n",
        "t1 = torch.cat([tensor,tensor,tensor],dim=0)\n",
        "print(t1)"
      ],
      "metadata": {
        "colab": {
          "base_uri": "https://localhost:8080/"
        },
        "id": "LXNfKQw_VRsX",
        "outputId": "738cf2eb-b96d-4a17-87ca-5c22c6d37bda"
      },
      "execution_count": 49,
      "outputs": [
        {
          "output_type": "stream",
          "name": "stdout",
          "text": [
            "tensor([[0.8003, 0.0000, 0.6243, 0.1952],\n",
            "        [0.8713, 0.0000, 0.3245, 0.8150],\n",
            "        [0.8003, 0.0000, 0.6243, 0.1952],\n",
            "        [0.8713, 0.0000, 0.3245, 0.8150],\n",
            "        [0.8003, 0.0000, 0.6243, 0.1952],\n",
            "        [0.8713, 0.0000, 0.3245, 0.8150]])\n"
          ]
        }
      ]
    },
    {
      "cell_type": "code",
      "source": [
        "# Arithmetic operations : matrix multiplication\n",
        "y1 = tensor @ tensor.T\n",
        "print(f\"The y1 tensor : {y1}\")\n",
        "y2 = tensor.matmul(tensor.T)\n",
        "print(f\"The y2 tensor : {y2}\")\n",
        "y3 = torch.rand_like(y1)\n",
        "torch.matmul(tensor,tensor.T, out=y3)\n",
        "print(f\"The y3 tensor : {y3}\")"
      ],
      "metadata": {
        "colab": {
          "base_uri": "https://localhost:8080/"
        },
        "id": "G2zx-2CnYUwV",
        "outputId": "488d2bb8-6aec-4a18-e61a-11626875a9e7"
      },
      "execution_count": 53,
      "outputs": [
        {
          "output_type": "stream",
          "name": "stdout",
          "text": [
            "The y1 tensor : tensor([[1.0682, 1.0589],\n",
            "        [1.0589, 1.5287]])\n",
            "The y2 tensor : tensor([[1.0682, 1.0589],\n",
            "        [1.0589, 1.5287]])\n",
            "The y3 tensor : tensor([[1.0682, 1.0589],\n",
            "        [1.0589, 1.5287]])\n"
          ]
        }
      ]
    },
    {
      "cell_type": "code",
      "source": [
        "# Arithmetic opertaions : element wise multiplication\n",
        "z1 = tensor * tensor\n",
        "z2 = tensor.mul(tensor)\n",
        "z3 = torch.rand_like(tensor)\n",
        "torch.mul(tensor,tensor,out=z3)\n",
        "print(f\"The z1 tensor : {z1}\")\n",
        "print(f\"The z2 tensor : {z2}\")\n",
        "print(f\"The z3 tensor : {z3}\")"
      ],
      "metadata": {
        "colab": {
          "base_uri": "https://localhost:8080/"
        },
        "id": "k6C-Y9GHZA7E",
        "outputId": "c2e2d8ee-ae32-4992-fad6-172a456f7a9a"
      },
      "execution_count": 54,
      "outputs": [
        {
          "output_type": "stream",
          "name": "stdout",
          "text": [
            "The z1 tensor : tensor([[0.6404, 0.0000, 0.3897, 0.0381],\n",
            "        [0.7592, 0.0000, 0.1053, 0.6642]])\n",
            "The z2 tensor : tensor([[0.6404, 0.0000, 0.3897, 0.0381],\n",
            "        [0.7592, 0.0000, 0.1053, 0.6642]])\n",
            "The z3 tensor : tensor([[0.6404, 0.0000, 0.3897, 0.0381],\n",
            "        [0.7592, 0.0000, 0.1053, 0.6642]])\n"
          ]
        }
      ]
    },
    {
      "cell_type": "code",
      "source": [
        "# Single element tensor\n",
        "agg = tensor.sum()\n",
        "print(f\"the tensor : {agg}\")\n",
        "agg_item = agg.item()\n",
        "print(agg_item, type(agg_item))"
      ],
      "metadata": {
        "colab": {
          "base_uri": "https://localhost:8080/"
        },
        "id": "M2aWabHMZrQF",
        "outputId": "26106ca9-08eb-4425-996d-56158cd0e75c"
      },
      "execution_count": 58,
      "outputs": [
        {
          "output_type": "stream",
          "name": "stdout",
          "text": [
            "the tensor : 3.63051438331604\n",
            "3.63051438331604 <class 'float'>\n"
          ]
        }
      ]
    },
    {
      "cell_type": "code",
      "source": [
        "# In place operations\n",
        "print(f\"The tensor : {tensor}\")\n",
        "tensor.add_(5)\n",
        "print(tensor)"
      ],
      "metadata": {
        "colab": {
          "base_uri": "https://localhost:8080/"
        },
        "id": "jOiwgEiyaJlM",
        "outputId": "9ac81b63-a6ad-43c5-cdd9-1381259c997f"
      },
      "execution_count": 59,
      "outputs": [
        {
          "output_type": "stream",
          "name": "stdout",
          "text": [
            "The tensor : tensor([[0.8003, 0.0000, 0.6243, 0.1952],\n",
            "        [0.8713, 0.0000, 0.3245, 0.8150]])\n",
            "tensor([[5.8003, 5.0000, 5.6243, 5.1952],\n",
            "        [5.8713, 5.0000, 5.3245, 5.8150]])\n"
          ]
        }
      ]
    },
    {
      "cell_type": "markdown",
      "source": [
        "4. Bridge with numpy"
      ],
      "metadata": {
        "id": "BccwrIHXbII7"
      }
    },
    {
      "cell_type": "code",
      "source": [
        "# Tensor to numpy\n",
        "t = torch.ones(5)\n",
        "print(f\"t: {t}\")\n",
        "n = t.numpy()\n",
        "print(f\"n: {n}\")"
      ],
      "metadata": {
        "colab": {
          "base_uri": "https://localhost:8080/"
        },
        "id": "LXfIp4o6bPPM",
        "outputId": "34515f2d-d915-42ce-e5d4-839891a37d18"
      },
      "execution_count": 62,
      "outputs": [
        {
          "output_type": "stream",
          "name": "stdout",
          "text": [
            "t: tensor([1., 1., 1., 1., 1.])\n",
            "n: [1. 1. 1. 1. 1.]\n"
          ]
        }
      ]
    },
    {
      "cell_type": "code",
      "source": [
        "# a change in the tensor reflects in the Numpy array\n",
        "t.add_(1)\n",
        "print(f\"t: {t}\")\n",
        "print(f\"n: {n}\")"
      ],
      "metadata": {
        "colab": {
          "base_uri": "https://localhost:8080/"
        },
        "id": "SYNRkB3VbbU7",
        "outputId": "430a5fe5-04d9-4672-bcf7-0eac8b68b500"
      },
      "execution_count": 63,
      "outputs": [
        {
          "output_type": "stream",
          "name": "stdout",
          "text": [
            "t: tensor([2., 2., 2., 2., 2.])\n",
            "n: [2. 2. 2. 2. 2.]\n"
          ]
        }
      ]
    },
    {
      "cell_type": "code",
      "source": [
        "# Numpy to tensor\n",
        "n = np.ones(5)\n",
        "t = torch.from_numpy(n)\n",
        "print(f\"t: {t}\")\n",
        "print(f\"n: {n}\")"
      ],
      "metadata": {
        "colab": {
          "base_uri": "https://localhost:8080/"
        },
        "id": "rSneNQHhbtzT",
        "outputId": "d49c0ffa-8ea7-44b8-badf-52c5178b8e7f"
      },
      "execution_count": 66,
      "outputs": [
        {
          "output_type": "stream",
          "name": "stdout",
          "text": [
            "t: tensor([1., 1., 1., 1., 1.], dtype=torch.float64)\n",
            "n: [1. 1. 1. 1. 1.]\n"
          ]
        }
      ]
    },
    {
      "cell_type": "code",
      "source": [
        "# a change in the numpy array reflects in the tensor\n",
        "np.add(n,5,out=n)\n",
        "print(f\"t: {t}\")\n",
        "print(f\"n: {n}\")"
      ],
      "metadata": {
        "colab": {
          "base_uri": "https://localhost:8080/"
        },
        "id": "sZ15TAbPb4sq",
        "outputId": "26450c71-c3a7-47d7-bde7-7eecb103b22f"
      },
      "execution_count": 68,
      "outputs": [
        {
          "output_type": "stream",
          "name": "stdout",
          "text": [
            "t: tensor([7., 7., 7., 7., 7.], dtype=torch.float64)\n",
            "n: [7. 7. 7. 7. 7.]\n"
          ]
        }
      ]
    }
  ]
}